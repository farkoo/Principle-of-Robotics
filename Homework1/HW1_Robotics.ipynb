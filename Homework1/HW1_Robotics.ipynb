{
  "nbformat": 4,
  "nbformat_minor": 0,
  "metadata": {
    "colab": {
      "name": "HW1-Robotics.ipynb",
      "provenance": [],
      "collapsed_sections": []
    },
    "kernelspec": {
      "name": "python3",
      "display_name": "Python 3"
    },
    "language_info": {
      "name": "python"
    }
  },
  "cells": [
    {
      "cell_type": "code",
      "execution_count": 143,
      "metadata": {
        "id": "vHTiNwTPGRPn"
      },
      "outputs": [],
      "source": [
        "import math\n",
        "import numpy as np\n",
        "from scipy.linalg import expm"
      ]
    },
    {
      "cell_type": "code",
      "source": [
        "def rotx(ang):\n",
        "  Rx = np.zeros((3, 3))\n",
        "  Rx = [[1, 1, 0],\n",
        "        [0, math.cos(math.pi*(ang/180)), -1*math.sin(math.pi*(ang/180))],\n",
        "        [0, math.sin(math.pi*(ang/180)), math.cos(math.pi*(ang/180))]]\n",
        "  return Rx"
      ],
      "metadata": {
        "id": "iw6eV25QIXZH"
      },
      "execution_count": 165,
      "outputs": []
    },
    {
      "cell_type": "code",
      "source": [
        "rotx(30)"
      ],
      "metadata": {
        "colab": {
          "base_uri": "https://localhost:8080/"
        },
        "id": "zlVUfy1VI4mZ",
        "outputId": "ccafa897-1339-4748-d8e0-061f3a5c4e94"
      },
      "execution_count": 166,
      "outputs": [
        {
          "output_type": "execute_result",
          "data": {
            "text/plain": [
              "[[1, 1, 0],\n",
              " [0, 0.8660254037844387, -0.49999999999999994],\n",
              " [0, 0.49999999999999994, 0.8660254037844387]]"
            ]
          },
          "metadata": {},
          "execution_count": 166
        }
      ]
    },
    {
      "cell_type": "code",
      "source": [
        "def roty(ang):\n",
        "  Ry = np.zeros((3, 3))\n",
        "  Ry = [[math.cos(math.pi*(ang/180)), 0, math.sin(math.pi*(ang/180))],\n",
        "        [0, 1, 0],\n",
        "        [-1*math.sin(math.pi*(ang/180)), 0, math.cos(math.pi*(ang/180))]]\n",
        "  return Ry"
      ],
      "metadata": {
        "id": "ipqRlHQOI-XR"
      },
      "execution_count": 167,
      "outputs": []
    },
    {
      "cell_type": "code",
      "source": [
        "roty(30)"
      ],
      "metadata": {
        "colab": {
          "base_uri": "https://localhost:8080/"
        },
        "id": "qDpj7VYbJlSI",
        "outputId": "8d77134e-e4d7-4963-9cea-853313914357"
      },
      "execution_count": 168,
      "outputs": [
        {
          "output_type": "execute_result",
          "data": {
            "text/plain": [
              "[[0.8660254037844387, 0, 0.49999999999999994],\n",
              " [0, 1, 0],\n",
              " [-0.49999999999999994, 0, 0.8660254037844387]]"
            ]
          },
          "metadata": {},
          "execution_count": 168
        }
      ]
    },
    {
      "cell_type": "code",
      "source": [
        "def rotz(ang):\n",
        "  Rz = np.zeros((3, 3))\n",
        "  Rz = [[math.cos(math.pi*(ang/180)), -1*math.sin(math.pi*(ang/180)), 0],\n",
        "        [math.sin(math.pi*(ang/180)), math.cos(math.pi*(ang/180)), 0],\n",
        "        [0, 0, 1]]\n",
        "  return Rz"
      ],
      "metadata": {
        "id": "dGeLRsFMJntX"
      },
      "execution_count": 169,
      "outputs": []
    },
    {
      "cell_type": "code",
      "source": [
        "rotz(30)"
      ],
      "metadata": {
        "colab": {
          "base_uri": "https://localhost:8080/"
        },
        "id": "LrPz8LUwJ8vL",
        "outputId": "2b08aeca-b164-414a-e4bb-871d99af9de4"
      },
      "execution_count": 170,
      "outputs": [
        {
          "output_type": "execute_result",
          "data": {
            "text/plain": [
              "[[0.8660254037844387, -0.49999999999999994, 0],\n",
              " [0.49999999999999994, 0.8660254037844387, 0],\n",
              " [0, 0, 1]]"
            ]
          },
          "metadata": {},
          "execution_count": 170
        }
      ]
    },
    {
      "cell_type": "code",
      "source": [
        "def eul2r(alpha, beta, gamma):\n",
        "  \n",
        "  Rzyz = np.zeros((3, 3))\n",
        "  ca = math.cos(math.pi*(alpha/180))\n",
        "  cb = math.cos(math.pi*(beta/180))\n",
        "  cg = math.cos(math.pi*(gamma/180))\n",
        "  sa = math.sin(math.pi*(alpha/180))\n",
        "  sb = math.sin(math.pi*(beta/180))\n",
        "  sg = math.sin(math.pi*(gamma/180))\n",
        "  Rzyz = [[(ca*cb*cg)-(sa*sg), -1*(ca*cb*sg)-(sa*cg), ca*sb],\n",
        "          [(sa*cb*cg)+(ca*sg), -1*(sa*cb*sg)+(ca*cg), sa*sb],\n",
        "          [-1*sb*cg, sb*sg, cb]]\n",
        "  return Rzyz"
      ],
      "metadata": {
        "id": "vI8_Sn-BJ-vl"
      },
      "execution_count": 150,
      "outputs": []
    },
    {
      "cell_type": "code",
      "source": [
        "eul2r(30,60,0)"
      ],
      "metadata": {
        "colab": {
          "base_uri": "https://localhost:8080/"
        },
        "id": "JDZOd3EbNFqY",
        "outputId": "0df5646b-1dd0-49d1-9b19-e5e3b4538aef"
      },
      "execution_count": 171,
      "outputs": [
        {
          "output_type": "execute_result",
          "data": {
            "text/plain": [
              "[[0.43301270189221946, -0.49999999999999994, 0.75],\n",
              " [0.25, 0.8660254037844387, 0.43301270189221924],\n",
              " [-0.8660254037844386, 0.0, 0.5000000000000001]]"
            ]
          },
          "metadata": {},
          "execution_count": 171
        }
      ]
    },
    {
      "cell_type": "code",
      "source": [
        "def angvec2r(theta, v):\n",
        "  ct = math.cos(math.pi*(theta/180))\n",
        "  st = math.sin(math.pi*(theta/180))\n",
        "  vt = 1 - math.cos(math.pi*(theta/180))\n",
        "\n",
        "  Rv = np.zeros((3, 3))\n",
        "  Rv = np.array([[(v[0]*v[0]*vt)+ct, (v[0]*v[1]*vt)-(v[2]*st), (v[0]*v[2]*vt)+(v[1]*st)],\n",
        "        [(v[0]*v[1]*vt)+(v[2]*st), (v[1]*v[1]*vt)+ct, (v[1]*v[2]*vt)-(v[0]*st)],\n",
        "        [(v[0]*v[2]*vt)-(v[1]*st), (v[1]*v[2]*vt)+(v[0]*st), (v[2]*v[2]*vt)+ct]])\n",
        "  return Rv"
      ],
      "metadata": {
        "id": "eJx5sXOVNLwt"
      },
      "execution_count": 181,
      "outputs": []
    },
    {
      "cell_type": "code",
      "source": [
        "r = angvec2r(30, [0.5, 0.5, 0.5])"
      ],
      "metadata": {
        "id": "gowrTXKeSApL"
      },
      "execution_count": 188,
      "outputs": []
    },
    {
      "cell_type": "code",
      "source": [
        "r"
      ],
      "metadata": {
        "colab": {
          "base_uri": "https://localhost:8080/"
        },
        "id": "0GVbzyRdleH8",
        "outputId": "4981042c-815a-4246-ea28-58045c605bdd"
      },
      "execution_count": 189,
      "outputs": [
        {
          "output_type": "execute_result",
          "data": {
            "text/plain": [
              "array([[ 0.89951905, -0.21650635,  0.28349365],\n",
              "       [ 0.28349365,  0.89951905, -0.21650635],\n",
              "       [-0.21650635,  0.28349365,  0.89951905]])"
            ]
          },
          "metadata": {},
          "execution_count": 189
        }
      ]
    },
    {
      "cell_type": "code",
      "source": [
        "def r2angvec(r):\n",
        "  theta = math.acos((r[0][0]+r[1][1]+r[2][2]-1)/2)\n",
        "\n",
        "  K = (1/(2*math.sin(theta)))*np.array([r[2][1]-r[1][2],\n",
        "                           (r[0][2]-r[2][0]),\n",
        "                           r[1][0]-r[0][1]])\n",
        "  return (theta*180)/math.pi, K"
      ],
      "metadata": {
        "id": "_5Sbu2_fSH_F"
      },
      "execution_count": 190,
      "outputs": []
    },
    {
      "cell_type": "code",
      "source": [
        "r2angvec(r)"
      ],
      "metadata": {
        "colab": {
          "base_uri": "https://localhost:8080/"
        },
        "id": "5rEZfw0mR_94",
        "outputId": "fb7f46bd-cb88-4c56-d43a-118b5a3b0071"
      },
      "execution_count": 191,
      "outputs": [
        {
          "output_type": "execute_result",
          "data": {
            "text/plain": [
              "(31.866709821246594, array([0.4735342, 0.4735342, 0.4735342]))"
            ]
          },
          "metadata": {},
          "execution_count": 191
        }
      ]
    },
    {
      "cell_type": "code",
      "source": [
        "def Question5(r):\n",
        "  e4 = math.sqrt(1 + r[0][0] + r[1][1] + r[2][2])/2\n",
        "  e3 = (r[1][0] - r[0][1])/(4*e4)\n",
        "  e2 = (r[0][2] - r[2][0])/(4*e4)\n",
        "  e1 = (r[2][1] - r[1][2])/(4*e4)\n",
        "  t = math.acos((r[0][0] + r[1][1] + r[2][2] -1)/2)*180/math.pi\n",
        "  kx = e1/math.sin((t*math.pi)/(180*2))\n",
        "  ky = e2/math.sin((t*math.pi)/(180*2))\n",
        "  kz = e3/math.sin((t*math.pi)/(180*2))\n",
        "  k = np.array([[0, -1*kx, ky],\n",
        "              [kz, 0, -1*kx],\n",
        "             [-1*ky, kx, 0]])\n",
        "  k = k*(t*math.pi/180)\n",
        "  return expm(k)"
      ],
      "metadata": {
        "id": "9LEV1H1L0JIa"
      },
      "execution_count": 192,
      "outputs": []
    },
    {
      "cell_type": "code",
      "source": [
        "Question5(r)"
      ],
      "metadata": {
        "colab": {
          "base_uri": "https://localhost:8080/"
        },
        "id": "0T5ZjdO-Adwv",
        "outputId": "00d2eab1-a9b9-4e33-846c-fa386cc6cb07"
      },
      "execution_count": 193,
      "outputs": [
        {
          "output_type": "execute_result",
          "data": {
            "text/plain": [
              "array([[ 0.93183087, -0.22024564,  0.28841477],\n",
              "       [ 0.28841477,  0.93183087, -0.22024564],\n",
              "       [-0.22024564,  0.28841477,  0.93183087]])"
            ]
          },
          "metadata": {},
          "execution_count": 193
        }
      ]
    },
    {
      "cell_type": "code",
      "source": [
        ""
      ],
      "metadata": {
        "id": "JuC0I2doWJIW"
      },
      "execution_count": 15,
      "outputs": []
    }
  ]
}