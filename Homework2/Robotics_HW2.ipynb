{
  "nbformat": 4,
  "nbformat_minor": 0,
  "metadata": {
    "colab": {
      "name": "Robotics-HW2.ipynb",
      "provenance": [],
      "collapsed_sections": []
    },
    "kernelspec": {
      "name": "python3",
      "display_name": "Python 3"
    },
    "language_info": {
      "name": "python"
    }
  },
  "cells": [
    {
      "cell_type": "code",
      "source": [
        "!python3 -m pip install AIUT_RoboticsToolbox"
      ],
      "metadata": {
        "id": "EbpbMKcVaIee",
        "colab": {
          "base_uri": "https://localhost:8080/"
        },
        "outputId": "c395cd40-ba4c-4ff9-960e-45ccf25ac702"
      },
      "execution_count": null,
      "outputs": [
        {
          "output_type": "stream",
          "name": "stdout",
          "text": [
            "Collecting AIUT_RoboticsToolbox\n",
            "  Downloading AIUT_RoboticsToolbox-0.0.0.1-py3-none-any.whl (4.3 kB)\n",
            "Installing collected packages: AIUT-RoboticsToolbox\n",
            "Successfully installed AIUT-RoboticsToolbox-0.0.0.1\n"
          ]
        }
      ]
    },
    {
      "cell_type": "code",
      "source": [
        "from AIUT_RoboticsToolbox.Toolbox import *\n",
        "import numpy as np\n",
        "import math"
      ],
      "metadata": {
        "id": "dUJqdt4Ua4OS"
      },
      "execution_count": null,
      "outputs": []
    },
    {
      "cell_type": "markdown",
      "source": [
        "# <div dir=\"rtl\">پیاده‌سازی تابع‌های لازم برای حل رباتیک مستقیم</div>\n",
        "\n",
        "<div dir=\"rtl\">\n",
        "<div>"
      ],
      "metadata": {
        "id": "aMCBAb7ITBL7"
      }
    },
    {
      "cell_type": "code",
      "source": [
        "def T(row):\n",
        "  T = np.array([[math.cos(row[3]),                 -math.sin(row[3]),                   0,                 row[1]],\n",
        "                [math.sin(row[3])*math.cos(row[0]), math.cos(row[3])*math.cos(row[0]), -math.sin(row[0]), -row[2]*math.sin(row[0])],\n",
        "                [math.sin(row[3])*math.sin(row[0]), math.cos(row[3])*math.sin(row[0]),  math.cos(row[0]),  row[2]*math.cos(row[0])],\n",
        "                [0,                                 0,                                  0,                 1]])\n",
        "  return T"
      ],
      "metadata": {
        "id": "UYUsTI1MEKpU"
      },
      "execution_count": null,
      "outputs": []
    },
    {
      "cell_type": "code",
      "source": [
        "def farkoo_fkin(links,joints):\n",
        "  for i in range(np.size(joints)):\n",
        "      if links[i][4] == 0:\n",
        "          links[i][3] = joints[i]\n",
        "      elif links[i][4] == 1:\n",
        "          links[i][2] = joints[i]\n",
        "  \n",
        "  TT = np.eye(4)\n",
        "  for l in range(np.size(links,0)):\n",
        "    temp = T(links[l])\n",
        "    TT = TT.dot(temp)\n",
        "\n",
        "  return TT"
      ],
      "metadata": {
        "id": "fcKjqffjGRWM"
      },
      "execution_count": null,
      "outputs": []
    },
    {
      "cell_type": "markdown",
      "source": [
        "# <div dir=\"rtl\">بررسی صحت توابع پیاده‌سازی شده با نتایج مثال 3.3</div>\n",
        "\n",
        "<div dir=\"rtl\">\n",
        "<div>"
      ],
      "metadata": {
        "id": "ZwmAR56RTR1U"
      }
    },
    {
      "cell_type": "code",
      "source": [
        "links33 = np.array([[0.0,0.0,0.0,0.0,0],\n",
        "                  [0.0,5.0,0.0,0.0,0],\n",
        "                  [0.0,6.0,0.0,0.0,0]])\n",
        "\n",
        "joints33 = [0,np.pi/2, 0]"
      ],
      "metadata": {
        "id": "_jf8R0dzG4Sf"
      },
      "execution_count": null,
      "outputs": []
    },
    {
      "cell_type": "code",
      "source": [
        "farkoo_fkin(links33, joints33)"
      ],
      "metadata": {
        "colab": {
          "base_uri": "https://localhost:8080/"
        },
        "id": "l1trwiflHDot",
        "outputId": "bb2ea2fe-4c39-4211-e5ac-410a7c70762c"
      },
      "execution_count": null,
      "outputs": [
        {
          "output_type": "execute_result",
          "data": {
            "text/plain": [
              "array([[ 6.123234e-17, -1.000000e+00,  0.000000e+00,  5.000000e+00],\n",
              "       [ 1.000000e+00,  6.123234e-17,  0.000000e+00,  6.000000e+00],\n",
              "       [ 0.000000e+00,  0.000000e+00,  1.000000e+00,  0.000000e+00],\n",
              "       [ 0.000000e+00,  0.000000e+00,  0.000000e+00,  1.000000e+00]])"
            ]
          },
          "metadata": {},
          "execution_count": 9
        }
      ]
    },
    {
      "cell_type": "markdown",
      "source": [
        "\n",
        "<div dir=\"rtl\">\n",
        "\n",
        "نتیجه می‌گیریم که نتایج ما با نتایج پکیج همخوانی دارد.\n",
        "\n",
        "<div>"
      ],
      "metadata": {
        "id": "H1Y4EMdbTra8"
      }
    },
    {
      "cell_type": "markdown",
      "source": [
        "# Question2"
      ],
      "metadata": {
        "id": "rVcefs6tJamZ"
      }
    },
    {
      "cell_type": "markdown",
      "source": [
        "# <div dir=\"rtl\"></div>\n",
        "\n",
        "<div dir=\"rtl\">\n",
        "\n",
        "سینماتیک ربات مثال 3.4 در زیر معرفی شده است و برخی از مقادیر به اختیار مقداردهی شده است.\n",
        "\n",
        "<div>"
      ],
      "metadata": {
        "id": "OgFZ9PQQT3tz"
      }
    },
    {
      "cell_type": "code",
      "source": [
        "links34 = np.array([[0.0,     0.0,     0.0,     0.0, 0],\n",
        "                    [np.pi/2, 0.0,     2,       0.0, 1],\n",
        "                    [0.0,     0.0,     3,       0,   0]])\n",
        "\n",
        "joints34 = [0, 0, 0]"
      ],
      "metadata": {
        "id": "PmbFz7dXI9Fj"
      },
      "execution_count": null,
      "outputs": []
    },
    {
      "cell_type": "markdown",
      "source": [
        "# <div dir=\"rtl\"></div>\n",
        "\n",
        "<div dir=\"rtl\">\n",
        "\n",
        "مقادیر سینماتیک مستقیم را توسط توابعی که توسط خودم پیاده‌سازی شده است بدست می‌آورم:\n",
        "\n",
        "<div>"
      ],
      "metadata": {
        "id": "x9SqRqZwURy8"
      }
    },
    {
      "cell_type": "code",
      "source": [
        "farkoo_fkin(links34, joints34)"
      ],
      "metadata": {
        "colab": {
          "base_uri": "https://localhost:8080/"
        },
        "id": "WsQd-ZvBJKoL",
        "outputId": "c7de4d7b-db0a-4c75-a9fc-c2ef6cf0430e"
      },
      "execution_count": null,
      "outputs": [
        {
          "output_type": "execute_result",
          "data": {
            "text/plain": [
              "array([[ 1.0000000e+00,  0.0000000e+00,  0.0000000e+00,  0.0000000e+00],\n",
              "       [ 0.0000000e+00,  6.1232340e-17, -1.0000000e+00, -3.0000000e+00],\n",
              "       [ 0.0000000e+00,  1.0000000e+00,  6.1232340e-17,  1.8369702e-16],\n",
              "       [ 0.0000000e+00,  0.0000000e+00,  0.0000000e+00,  1.0000000e+00]])"
            ]
          },
          "metadata": {},
          "execution_count": 12
        }
      ]
    },
    {
      "cell_type": "markdown",
      "source": [
        "# <div dir=\"rtl\"></div>\n",
        "\n",
        "<div dir=\"rtl\">\n",
        "\n",
        "مقادیر سینماتیک مستقیم را توسط توابعی که توسط پکیج پیاده‌سازی شده است بدست می‌آورم:\n",
        "\n",
        "<div>"
      ],
      "metadata": {
        "id": "RpnGXWpZU626"
      }
    },
    {
      "cell_type": "code",
      "source": [
        "robot34 = SerialLink('ex 3.4', links34)\n",
        "robot34.fkin(joints34)"
      ],
      "metadata": {
        "colab": {
          "base_uri": "https://localhost:8080/"
        },
        "id": "Jfs2H3JfDoyK",
        "outputId": "43fbf57c-18a6-4623-eef3-2775b734fe4d"
      },
      "execution_count": null,
      "outputs": [
        {
          "output_type": "execute_result",
          "data": {
            "text/plain": [
              "array([[ 1.0000000e+00,  0.0000000e+00,  0.0000000e+00,  0.0000000e+00],\n",
              "       [ 0.0000000e+00,  6.1232340e-17, -1.0000000e+00, -3.0000000e+00],\n",
              "       [ 0.0000000e+00,  1.0000000e+00,  6.1232340e-17,  1.8369702e-16],\n",
              "       [ 0.0000000e+00,  0.0000000e+00,  0.0000000e+00,  1.0000000e+00]])"
            ]
          },
          "metadata": {},
          "execution_count": 13
        }
      ]
    },
    {
      "cell_type": "markdown",
      "source": [
        "# <div dir=\"rtl\"></div>\n",
        "\n",
        "<div dir=\"rtl\">\n",
        "\n",
        "با مقایسه نتایج هر دو روش میبینیم نتایج یکسانی بدست آمده‌است.\n",
        "\n",
        "<div>"
      ],
      "metadata": {
        "id": "c2og3UXuVh1u"
      }
    },
    {
      "cell_type": "markdown",
      "source": [
        "# Question 3"
      ],
      "metadata": {
        "id": "O0SJnzypVxy2"
      }
    },
    {
      "cell_type": "markdown",
      "source": [
        "# <div dir=\"rtl\"></div>\n",
        "\n",
        "<div dir=\"rtl\">\n",
        "\n",
        "سینماتیک ربات شکل 3.39 در زیر معرفی شده است و برخی از مقادیر به اختیار مقداردهی شده است.\n",
        "\n",
        "<div>"
      ],
      "metadata": {
        "id": "mnBo5f4VZiJp"
      }
    },
    {
      "cell_type": "code",
      "source": [
        "links339 = np.array([[0.0,          0.0,     0.0,     0.0,      0],\n",
        "                     [0.0,          2.0,     3.0,     0.0,      1],\n",
        "                     [np.pi/2,      0.0,     4.0,     0.0,      0]])\n",
        "\n",
        "joints339 = [0, 0, 0]"
      ],
      "metadata": {
        "id": "lk4vyIvnECAo"
      },
      "execution_count": null,
      "outputs": []
    },
    {
      "cell_type": "markdown",
      "source": [
        "# <div dir=\"rtl\"></div>\n",
        "\n",
        "<div dir=\"rtl\">\n",
        "\n",
        "مقادیر سینماتیک مستقیم را توسط توابعی که توسط خودم پیاده‌سازی شده است بدست می‌آورم:\n",
        "\n",
        "<div>"
      ],
      "metadata": {
        "id": "pFySTwFgW5VB"
      }
    },
    {
      "cell_type": "code",
      "source": [
        "farkoo_fkin(links339, joints339)"
      ],
      "metadata": {
        "colab": {
          "base_uri": "https://localhost:8080/"
        },
        "id": "3fX1_wYkWrc4",
        "outputId": "bccf5b48-6ff7-4509-993c-383b583b64b0"
      },
      "execution_count": null,
      "outputs": [
        {
          "output_type": "execute_result",
          "data": {
            "text/plain": [
              "array([[ 1.0000000e+00,  0.0000000e+00,  0.0000000e+00,  2.0000000e+00],\n",
              "       [ 0.0000000e+00,  6.1232340e-17, -1.0000000e+00, -4.0000000e+00],\n",
              "       [ 0.0000000e+00,  1.0000000e+00,  6.1232340e-17,  2.4492936e-16],\n",
              "       [ 0.0000000e+00,  0.0000000e+00,  0.0000000e+00,  1.0000000e+00]])"
            ]
          },
          "metadata": {},
          "execution_count": 16
        }
      ]
    },
    {
      "cell_type": "markdown",
      "source": [
        "# <div dir=\"rtl\"></div>\n",
        "\n",
        "<div dir=\"rtl\">\n",
        "\n",
        "مقادیر سینماتیک مستقیم را توسط توابعی که توسط پکیج پیاده‌سازی شده است بدست می‌آورم:\n",
        "\n",
        "<div>"
      ],
      "metadata": {
        "id": "tV8HSQlfW8qC"
      }
    },
    {
      "cell_type": "code",
      "source": [
        "robot34 = SerialLink('Q 3.39', links339)\n",
        "robot34.fkin(joints339)"
      ],
      "metadata": {
        "colab": {
          "base_uri": "https://localhost:8080/"
        },
        "id": "EgyWX_UiWs_s",
        "outputId": "833c4467-654a-4eac-d5d3-056738d76141"
      },
      "execution_count": null,
      "outputs": [
        {
          "output_type": "execute_result",
          "data": {
            "text/plain": [
              "array([[ 1.0000000e+00,  0.0000000e+00,  0.0000000e+00,  2.0000000e+00],\n",
              "       [ 0.0000000e+00,  6.1232340e-17, -1.0000000e+00, -4.0000000e+00],\n",
              "       [ 0.0000000e+00,  1.0000000e+00,  6.1232340e-17,  2.4492936e-16],\n",
              "       [ 0.0000000e+00,  0.0000000e+00,  0.0000000e+00,  1.0000000e+00]])"
            ]
          },
          "metadata": {},
          "execution_count": 17
        }
      ]
    },
    {
      "cell_type": "markdown",
      "source": [
        "# <div dir=\"rtl\"></div>\n",
        "\n",
        "<div dir=\"rtl\">\n",
        "\n",
        "با مقایسه نتایج هر دو روش می‌بینیم نتایج یکسانی بدست آمده‌است.\n",
        "\n",
        "<div>"
      ],
      "metadata": {
        "id": "VvgNQHxDW_FI"
      }
    },
    {
      "cell_type": "code",
      "source": [
        ""
      ],
      "metadata": {
        "id": "1Tb7LAtEW2GY"
      },
      "execution_count": null,
      "outputs": []
    }
  ]
}